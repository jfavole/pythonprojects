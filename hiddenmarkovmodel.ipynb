{
 "cells": [
  {
   "cell_type": "code",
   "execution_count": 1,
   "metadata": {
    "collapsed": true
   },
   "outputs": [],
   "source": [
    "# Tutorial at http://hmmlearn.readthedocs.io/en/latest/tutorial.html\n",
    "\n",
    "# The Markov assumption: The probability of a particular state depends only on the previous state.\n",
    "# Hidden Markov models help us to understand both observed events and unobserved causal factors.\n",
    "# Emissions are the observed events."
   ]
  },
  {
   "cell_type": "code",
   "execution_count": 2,
   "metadata": {
    "collapsed": true
   },
   "outputs": [],
   "source": [
    "import numpy as np\n",
    "from hmmlearn import hmm"
   ]
  },
  {
   "cell_type": "code",
   "execution_count": 3,
   "metadata": {
    "collapsed": true
   },
   "outputs": [],
   "source": [
    "np.random.seed(42)"
   ]
  },
  {
   "cell_type": "code",
   "execution_count": 4,
   "metadata": {
    "collapsed": true
   },
   "outputs": [],
   "source": [
    "# Hidden Markov model with Gaussian emissions and three possible states.\n",
    "# X represents observable variables; Z represents hidden states.\n",
    "\n",
    "model = hmm.GaussianHMM(n_components=3, covariance_type=\"full\")\n",
    "model.startprob_ = np.array([0.6, 0.3, 0.1])\n",
    "model.transmat_ = np.array([[0.7, 0.2, 0.1],\n",
    "                           [0.3, 0.5, 0.2],\n",
    "                           [0.3, 0.3, 0.4]])\n",
    "model.means_ = np.array([[0.0, 0.0], [3.0, -3.0], [5.0, 10.0]])\n",
    "model.covars_ = np.tile(np.identity(2), (3, 1, 1))\n",
    "\n",
    "X, Z = model.sample(100)"
   ]
  },
  {
   "cell_type": "code",
   "execution_count": 5,
   "metadata": {
    "collapsed": false
   },
   "outputs": [
    {
     "data": {
      "text/plain": [
       "array([[  1.11188012e+00,   3.18902185e-01],\n",
       "       [ -1.57921282e+00,   7.67434729e-01],\n",
       "       [  5.80878134e-01,  -5.25169807e-01],\n",
       "       [ -2.41962272e-01,  -1.91328024e+00],\n",
       "       [ -8.16445081e-01,  -1.52387600e+00],\n",
       "       [  9.08024076e-01,  -1.41230370e+00],\n",
       "       [  6.29474961e-01,   5.97720467e-01],\n",
       "       [  5.44382725e-01,   1.10922590e-01],\n",
       "       [  6.00253850e-01,   9.47439821e-01],\n",
       "       [  6.01706612e-01,   1.85227818e+00],\n",
       "       [  5.33648804e-01,  -5.52786232e-03],\n",
       "       [  4.17745509e+00,   8.77915635e+00],\n",
       "       [  2.21686958e-01,  -1.80636028e+00],\n",
       "       [ -7.38466580e-01,   1.71368281e-01],\n",
       "       [  1.00908534e+00,  -1.58329421e+00],\n",
       "       [  4.60638771e-01,   1.05712223e+00],\n",
       "       [  1.13055230e+00,   1.34428883e-01],\n",
       "       [  3.67692200e+00,  -2.38832371e+00],\n",
       "       [ -5.82122795e-01,   8.87748460e-01],\n",
       "       [  3.83921752e+00,  -3.30921238e+00],\n",
       "       [  6.50815329e+00,   1.10996470e+01],\n",
       "       [  1.10633497e+00,  -1.19620662e+00],\n",
       "       [  2.16520458e+00,  -2.70343862e+00],\n",
       "       [  2.63836397e+00,  -3.64511975e+00],\n",
       "       [  1.50456575e+00,  -2.66181875e+00],\n",
       "       [  5.61974510e+00,  -2.17809750e+00],\n",
       "       [  1.41875046e+00,   1.04249162e+00],\n",
       "       [  2.19671888e-01,   3.57112572e-01],\n",
       "       [  7.89258329e-01,   7.43711284e-01],\n",
       "       [  8.08493603e-01,  -5.01757044e-01],\n",
       "       [  4.49855167e+00,   1.11581867e+01],\n",
       "       [  5.52976020e+00,   1.05132674e+01],\n",
       "       [  3.62813787e+00,   1.01755533e+01],\n",
       "       [  5.70205309e+00,   9.67233785e+00],\n",
       "       [ -1.27373362e+00,  -2.91952671e-01],\n",
       "       [  2.99488654e+00,  -3.23458713e+00],\n",
       "       [  3.39551645e+00,  -3.28913686e+00],\n",
       "       [  3.16128571e+00,  -2.59594914e+00],\n",
       "       [  3.94305681e+00,  -1.59604126e+00],\n",
       "       [  6.91877122e+00,   9.97348612e+00],\n",
       "       [ -1.02347683e-01,  -4.32609281e-01],\n",
       "       [  1.92360965e-01,   3.01547342e-01],\n",
       "       [ -3.39820964e-01,  -7.38014994e-03],\n",
       "       [ -1.14282281e+00,   7.51933033e-01],\n",
       "       [  8.01827843e-01,   1.38401572e+00],\n",
       "       [ -5.86857094e-01,   2.19045563e+00],\n",
       "       [  4.93432482e-01,   9.23162608e-01],\n",
       "       [ -9.96513651e-02,  -5.03475654e-01],\n",
       "       [ -9.14434574e-03,  -3.65539297e-01],\n",
       "       [  1.06230371e+00,   4.73592431e-01],\n",
       "       [ -6.20548216e-01,  -1.60937377e-01],\n",
       "       [  7.83253292e-01,  -3.22061516e-01],\n",
       "       [  5.35674503e+00,   1.05561218e+01],\n",
       "       [  4.77254007e+00,   1.13071428e+01],\n",
       "       [  3.32449096e+00,  -3.20586672e+00],\n",
       "       [  4.74011721e+00,   1.07818229e+01],\n",
       "       [  1.70060319e+00,  -3.86714616e+00],\n",
       "       [  4.74950715e+00,   1.03464482e+01],\n",
       "       [  4.77371173e+00,   1.08474014e+01],\n",
       "       [ -2.93072473e-01,  -7.14351418e-01],\n",
       "       [ -1.74833012e-01,  -1.21685489e+00],\n",
       "       [  1.19130350e+00,   6.56553609e-01],\n",
       "       [  3.75117942e+00,  -4.13042805e+00],\n",
       "       [  2.03662387e+00,  -2.58721907e+00],\n",
       "       [  3.86764109e+00,  -2.85413815e+00],\n",
       "       [  3.88951443e+00,  -3.81581028e+00],\n",
       "       [  4.12132645e+00,   9.76040549e+00],\n",
       "       [  4.98699811e+00,   1.14535341e+01],\n",
       "       [  4.40640527e+00,  -3.03452966e+00],\n",
       "       [  4.07089250e+00,  -2.51752758e+00],\n",
       "       [  5.12413239e+00,   1.07403408e+01],\n",
       "       [  5.84679372e+00,   8.48515278e+00],\n",
       "       [  5.92604662e+00,   9.48703468e+00],\n",
       "       [  2.82681907e+00,  -2.61468262e+00],\n",
       "       [  2.76904628e+00,  -3.80893689e+00],\n",
       "       [  4.94179128e+00,   8.85702970e+00],\n",
       "       [  4.12755284e+00,   1.10661985e+01],\n",
       "       [  6.37766937e+00,   9.06217496e+00],\n",
       "       [  4.69555088e+00,   1.02572075e+01],\n",
       "       [  4.48495231e+00,   1.38527315e+01],\n",
       "       [  3.66911867e+00,   1.09882026e+01],\n",
       "       [  5.31526924e+00,   1.07589692e+01],\n",
       "       [  2.83497720e+00,  -3.85592892e+00],\n",
       "       [ -2.31465857e+00,  -1.86726519e+00],\n",
       "       [  4.14531805e-01,   8.01987125e-02],\n",
       "       [  4.71931866e-01,   1.08895060e+00],\n",
       "       [ -1.56038014e+00,   1.28551000e-01],\n",
       "       [  7.30366632e-01,   2.16458590e-01],\n",
       "       [ -2.38903596e+00,   1.84341376e+00],\n",
       "       [  2.02514259e+00,   1.86454315e-01],\n",
       "       [  3.44449874e+00,  -4.66913236e+00],\n",
       "       [ -5.04987279e-01,   8.65755194e-01],\n",
       "       [  3.34247091e-01,  -3.17846907e-01],\n",
       "       [ -1.76545424e+00,   4.04981711e-01],\n",
       "       [ -3.77296265e-01,   1.65135099e+00],\n",
       "       [  1.51936997e+00,  -4.84234073e-01],\n",
       "       [  2.37391961e-01,   1.87200568e+00],\n",
       "       [  3.24126734e+00,  -1.02438764e+00],\n",
       "       [  1.99496157e+00,  -1.30019284e+00],\n",
       "       [  4.40044487e-01,   1.30740577e-01]])"
      ]
     },
     "execution_count": 5,
     "metadata": {},
     "output_type": "execute_result"
    }
   ],
   "source": [
    "X"
   ]
  },
  {
   "cell_type": "code",
   "execution_count": 6,
   "metadata": {
    "collapsed": false
   },
   "outputs": [
    {
     "data": {
      "text/plain": [
       "array([0, 0, 0, 0, 0, 0, 0, 0, 0, 0, 0, 2, 1, 0, 0, 0, 0, 1, 0, 1, 2, 0, 1,\n",
       "       1, 1, 1, 0, 0, 0, 0, 2, 2, 2, 2, 0, 1, 1, 1, 1, 2, 0, 0, 0, 0, 0, 0,\n",
       "       0, 0, 0, 0, 0, 0, 2, 2, 1, 2, 1, 2, 2, 0, 0, 0, 1, 1, 1, 1, 2, 2, 1,\n",
       "       1, 2, 2, 2, 1, 1, 2, 2, 2, 2, 2, 2, 2, 1, 0, 0, 0, 0, 0, 0, 0, 1, 0,\n",
       "       0, 0, 0, 0, 0, 0, 0, 0])"
      ]
     },
     "execution_count": 6,
     "metadata": {},
     "output_type": "execute_result"
    }
   ],
   "source": [
    "Z"
   ]
  },
  {
   "cell_type": "code",
   "execution_count": 7,
   "metadata": {
    "collapsed": false
   },
   "outputs": [
    {
     "data": {
      "text/plain": [
       "GaussianHMM(algorithm='viterbi', covariance_type='full', covars_prior=0.01,\n",
       "      covars_weight=1, init_params='stmc', means_prior=0, means_weight=0,\n",
       "      min_covar=0.001, n_components=3, n_iter=100, params='stmc',\n",
       "      random_state=None, startprob_prior=1.0, tol=0.01, transmat_prior=1.0,\n",
       "      verbose=False)"
      ]
     },
     "execution_count": 7,
     "metadata": {},
     "output_type": "execute_result"
    }
   ],
   "source": [
    "remodel = hmm.GaussianHMM(n_components=3, covariance_type=\"full\", n_iter=100)\n",
    "remodel.fit(X)"
   ]
  },
  {
   "cell_type": "code",
   "execution_count": 8,
   "metadata": {
    "collapsed": true
   },
   "outputs": [],
   "source": [
    "Z2 = remodel.predict(X)"
   ]
  },
  {
   "cell_type": "code",
   "execution_count": 9,
   "metadata": {
    "collapsed": false
   },
   "outputs": [
    {
     "data": {
      "text/plain": [
       "array([0, 0, 0, 0, 0, 0, 0, 0, 0, 0, 0, 1, 0, 0, 0, 0, 0, 2, 0, 2, 1, 0, 2,\n",
       "       2, 2, 2, 0, 0, 0, 0, 1, 1, 1, 1, 0, 2, 2, 2, 2, 1, 0, 0, 0, 0, 0, 0,\n",
       "       0, 0, 0, 0, 0, 0, 1, 1, 2, 1, 2, 1, 1, 0, 0, 0, 2, 2, 2, 2, 1, 1, 2,\n",
       "       2, 1, 1, 1, 2, 2, 1, 1, 1, 1, 1, 1, 1, 2, 0, 0, 0, 0, 0, 0, 0, 2, 0,\n",
       "       0, 0, 0, 0, 0, 0, 0, 0])"
      ]
     },
     "execution_count": 9,
     "metadata": {},
     "output_type": "execute_result"
    }
   ],
   "source": [
    "Z2"
   ]
  },
  {
   "cell_type": "code",
   "execution_count": 10,
   "metadata": {
    "collapsed": true
   },
   "outputs": [],
   "source": [
    "# Working with multiple sequences"
   ]
  },
  {
   "cell_type": "code",
   "execution_count": 11,
   "metadata": {
    "collapsed": true
   },
   "outputs": [],
   "source": [
    "X1 = [[0.5], [1.0], [-1.0], [0.42], [0.24]]\n",
    "X2 = [[2.4], [4.2], [0.5], [-0.24]]"
   ]
  },
  {
   "cell_type": "code",
   "execution_count": 12,
   "metadata": {
    "collapsed": true
   },
   "outputs": [],
   "source": [
    "# To pass both sequences to fit or predict, \n",
    "# concatenate to a single array, and then \n",
    "# compute an array of sequence lengths.\n",
    "\n",
    "X = np.concatenate([X1, X2])\n",
    "lengths = [len(X1), len(X2)]"
   ]
  },
  {
   "cell_type": "code",
   "execution_count": 13,
   "metadata": {
    "collapsed": false
   },
   "outputs": [
    {
     "data": {
      "text/plain": [
       "GaussianHMM(algorithm='viterbi', covariance_type='diag', covars_prior=0.01,\n",
       "      covars_weight=1, init_params='stmc', means_prior=0, means_weight=0,\n",
       "      min_covar=0.001, n_components=3, n_iter=10, params='stmc',\n",
       "      random_state=None, startprob_prior=1.0, tol=0.01, transmat_prior=1.0,\n",
       "      verbose=False)"
      ]
     },
     "execution_count": 13,
     "metadata": {},
     "output_type": "execute_result"
    }
   ],
   "source": [
    "hmm.GaussianHMM(n_components=3).fit(X, lengths)"
   ]
  }
 ],
 "metadata": {
  "anaconda-cloud": {},
  "kernelspec": {
   "display_name": "Python [conda root]",
   "language": "python",
   "name": "conda-root-py"
  },
  "language_info": {
   "codemirror_mode": {
    "name": "ipython",
    "version": 3
   },
   "file_extension": ".py",
   "mimetype": "text/x-python",
   "name": "python",
   "nbconvert_exporter": "python",
   "pygments_lexer": "ipython3",
   "version": "3.5.2"
  }
 },
 "nbformat": 4,
 "nbformat_minor": 1
}
